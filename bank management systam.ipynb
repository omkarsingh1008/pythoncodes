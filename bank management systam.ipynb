{
 "cells": [
  {
   "cell_type": "code",
   "execution_count": 1,
   "metadata": {},
   "outputs": [],
   "source": [
    "\n",
    "def singup():\n",
    "    last=list(data.keys())\n",
    "    last.sort()\n",
    "    new=last[-1]+1\n",
    "    name=input(\"enter your name\")\n",
    "    password=input(\"enter your password\")\n",
    "    bal=int(input(\"enter your amamunt\"))\n",
    "    data[new]={'name':name,'password':password,'bal':bal}"
   ]
  },
  {
   "cell_type": "code",
   "execution_count": 2,
   "metadata": {},
   "outputs": [],
   "source": [
    "data={\n",
    "    1001:{'name':'omkar','password':'12om','bal':90,},\n",
    "    1002:{'name':'vikram','password':'1kar','bal':80}    \n",
    "     \n",
    "                 \n",
    "    \n",
    "    \n",
    "    \n",
    "}\n",
    "import time\n",
    "def login():\n",
    "    import time\n",
    "    acc_no=int(input('enter your account number:'))\n",
    "    if acc_no in data:\n",
    "        b=input(\"enter your password:\")\n",
    "        if b==data[acc_no]['password']:\n",
    "            print(f\"login succesfull at {time.ctime()}\")\n",
    "            \n",
    "            x=int(input(\"\"\"enter your chioce:\n",
    "                                              1.debit\n",
    "                                              2.credit\n",
    "                                              3.balance enqurey\"\"\"))\n",
    "            if x==1:\n",
    "                print(\"enter your amount:\")\n",
    "                d=int(input(\"amount:\"))\n",
    "                new_amt=data.get(acc_no)['bal']-d\n",
    "                data.get(acc_no).update(bal=new_amt)\n",
    "                \n",
    "                print(f\"your current balance is {new_amt}\")\n",
    "                \n",
    "                \n",
    "                \n",
    "            elif x==2:\n",
    "                print(\"enter your amount :\")\n",
    "                c=int(input(\"amount:\"))\n",
    "                new_amt=data.get(acc_no)['bal']-c\n",
    "                data.get(acc_no).update(bal=new_amt)\n",
    "                \n",
    "                print(f\"your current balance is {new_amt}\")\n",
    "                \n",
    "            elif x==3:\n",
    "                print(f\"your balance is {data[acc_no]}\")\n",
    "            else:\n",
    "                print(f\"invalid number at {time.ctime()}\")\n",
    "            \n",
    "        else:\n",
    "            print(f\"worng password at {time.ctime() }\")\n",
    "    else:\n",
    "        print(f\"worng account number at {time.ctime()}\")\n",
    "    \n",
    "            \n",
    "    \n",
    "    \n",
    "    \n",
    "        "
   ]
  },
  {
   "cell_type": "code",
   "execution_count": null,
   "metadata": {},
   "outputs": [],
   "source": []
  },
  {
   "cell_type": "code",
   "execution_count": null,
   "metadata": {},
   "outputs": [],
   "source": [
    "\n"
   ]
  },
  {
   "cell_type": "code",
   "execution_count": 3,
   "metadata": {},
   "outputs": [],
   "source": [
    "data={\n",
    "    1001:{'name':'omkar','password':'12om','bal':90,},\n",
    "    1002:{'name':'vikram','password':'1kar','bal':80}    \n",
    "     \n",
    "                 \n",
    "    \n",
    "    \n",
    "    \n",
    "}\n",
    "from time import sleep\n",
    "from random import randint\n",
    "def bank():\n",
    "    import time\n",
    "    print(\"*\"*50)\n",
    "    print(\"Welcome to bhikari bank\")\n",
    "    print(\"*\"*50)\n",
    "    print(\"press 1 to login\")\n",
    "    print(\"*\"*50)\n",
    "    print(\"press 2 to signup\")\n",
    "    print(\"*\"*50)\n",
    "    print(\"press 3 to exit\")\n",
    "    print(\"*\"*50)\n",
    "    ch = int(input(\"Enter your choice : \"))\n",
    "    if ch <= 0 or ch > 3 : \n",
    "        print(\"Invalid Choice Try Again at {time.ctime} \")\n",
    "        sleep(randint(1,3))\n",
    "        bank()\n",
    "    elif ch==1:\n",
    "        print(\"login plz enter your details\")\n",
    "        login()\n",
    "        \n",
    "             \n",
    "    elif ch==2:\n",
    "        print(\"singup\")\n",
    "        singup()\n",
    "        \n",
    "    elif ch==3:\n",
    "        print(\"exit\")"
   ]
  },
  {
   "cell_type": "code",
   "execution_count": 4,
   "metadata": {},
   "outputs": [
    {
     "name": "stdout",
     "output_type": "stream",
     "text": [
      "**************************************************\n",
      "Welcome to bhikari bank\n",
      "**************************************************\n",
      "press 1 to login\n",
      "**************************************************\n",
      "press 2 to signup\n",
      "**************************************************\n",
      "press 3 to exit\n",
      "**************************************************\n",
      "Enter your choice : 1\n",
      "login plz enter your details\n",
      "enter your account number:1001\n",
      "enter your password:om\n",
      "worng password at Tue Mar  5 20:45:08 2019\n"
     ]
    }
   ],
   "source": [
    "bank()"
   ]
  },
  {
   "cell_type": "markdown",
   "metadata": {},
   "source": []
  },
  {
   "cell_type": "code",
   "execution_count": 18,
   "metadata": {},
   "outputs": [],
   "source": [
    "data={\n",
    "    1001:{'name':'omkar','password':'12om','bal':90,},\n",
    "    1002:{'name':'vikram','password':'1kar','bal':80}    \n",
    "     \n",
    "                 \n",
    "    \n",
    "    \n",
    "    \n",
    "}\n",
    "def login():\n",
    "    acc_no=int(input('enter your account number:'))\n",
    "    if acc_no in data:\n",
    "        b=input(\"enter your password:\")\n",
    "        if b==data[acc_no]['password']:\n",
    "            print(\"login succesfull\")\n",
    "            x=int(input(\"\"\"enter your chioce:\n",
    "                                              1.debit\n",
    "                                              2.credit\n",
    "                                              3.balance enqurey\"\"\"))\n",
    "            if x==1:\n",
    "                print(\"enter your amount:\")\n",
    "                d=int(input(\"amount:\"))\n",
    "                print(f\"your current balance is {data[acc_no]['bal']+d}\")\n",
    "                \n",
    "            elif x==2:\n",
    "                print(\"enter your amount :\")\n",
    "                c=int(input(\"amount:\"))\n",
    "                print(f\"your balance is {data[acc_no]['bal']-c}\")\n",
    "            elif x==3:\n",
    "                print(f\"your balance is {data[acc_no]}\")\n",
    "            else:\n",
    "                print(\"invalid number\")\n",
    "            \n",
    "        else:\n",
    "            print(\"worng password\")\n",
    "    else:\n",
    "        print(\"worng account number\")\n",
    "        "
   ]
  },
  {
   "cell_type": "code",
   "execution_count": 19,
   "metadata": {},
   "outputs": [
    {
     "name": "stdout",
     "output_type": "stream",
     "text": [
      "enter your account number:1001\n",
      "enter your password:12om\n",
      "login succesfull\n",
      "enter your chioce:\n",
      "                                              1.debit\n",
      "                                              2.credit\n",
      "                                              3.balance enqurey1\n",
      "enter your amount:\n",
      "amount:10\n",
      "your current balance is 100\n"
     ]
    }
   ],
   "source": [
    "login()"
   ]
  },
  {
   "cell_type": "code",
   "execution_count": 1,
   "metadata": {},
   "outputs": [
    {
     "data": {
      "text/plain": [
       "'Sun Feb 24 21:01:52 2019'"
      ]
     },
     "execution_count": 1,
     "metadata": {},
     "output_type": "execute_result"
    }
   ],
   "source": [
    "import time\n",
    "time.ctime()"
   ]
  },
  {
   "cell_type": "code",
   "execution_count": null,
   "metadata": {},
   "outputs": [],
   "source": []
  }
 ],
 "metadata": {
  "kernelspec": {
   "display_name": "Python 3",
   "language": "python",
   "name": "python3"
  },
  "language_info": {
   "codemirror_mode": {
    "name": "ipython",
    "version": 3
   },
   "file_extension": ".py",
   "mimetype": "text/x-python",
   "name": "python",
   "nbconvert_exporter": "python",
   "pygments_lexer": "ipython3",
   "version": "3.6.7"
  }
 },
 "nbformat": 4,
 "nbformat_minor": 2
}
