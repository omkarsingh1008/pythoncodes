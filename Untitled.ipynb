{
 "cells": [
  {
   "cell_type": "code",
   "execution_count": null,
   "metadata": {},
   "outputs": [],
   "source": [
    "data={\n",
    "    1001:{'name':'omkar','password':'12om','bal':90,},\n",
    "    1002:{'name':'vikram','password':'1kar','bal':80}    \n",
    "     \n",
    "                 \n",
    "    \n",
    "    \n",
    "    \n",
    "}\n",
    "\n",
    "def login():\n",
    "    acc_no=int(input(''))\n",
    "    if acc_no in data:\n",
    "        b=input(\"enter your password\")\n",
    "        if b==data[acc_no]['password']:\n",
    "            print(\"login succesfull\")\n",
    "            x=int(input(\"\"\"enter your chioce:\n",
    "                                              1.debit\n",
    "                                              2.credit\n",
    "                                              3.balance enqurey\"\"\"))\n",
    "            if x==1:\n",
    "                print(\"enter your amount:\")\n",
    "                d=int(input(\"amount:\"))\n",
    "                print(f\"your current balance is {data[acc_no]['bal']+d}\")\n",
    "            elif x==2:\n",
    "                print(\"enter your amount :\")\n",
    "                c=int(input(\"amount:\"))\n",
    "                print(f\"your balance is {data[acc_no]['bal']-c}\")\n",
    "            elif x==3:\n",
    "                print(\"your balance is {data[acc_no]['bal']}\")\n",
    "            else:\n",
    "                print(\"invalid number\")\n",
    "            \n",
    "        else:\n",
    "            print(\"worng password\")\n",
    "    else:\n",
    "        print(\"worng password\")\n",
    "    \n",
    "            \n",
    "    \n",
    "login()    \n",
    "    \n",
    "        "
   ]
  },
  {
   "cell_type": "code",
   "execution_count": null,
   "metadata": {},
   "outputs": [],
   "source": [
    "def bank():\n",
    "    print(\"worng account number\")\n",
    "\n",
    "    "
   ]
  },
  {
   "cell_type": "code",
   "execution_count": null,
   "metadata": {},
   "outputs": [],
   "source": [
    "dict={\n",
    "    \"123@3\":{'name':'om','bal':90,},\n",
    "    \"akash\":{'name':'kar','bal':80}    \n",
    "     \n",
    "                 \n",
    "    \n",
    "    \n",
    "    \n",
    "}\n",
    "\n",
    "def login(dict,name):\n",
    "    \n",
    "    \n",
    "    for keys,value in dict.items():\n",
    "        l=list(keys.keys())\n",
    "        \n",
    "        \n",
    "         \n",
    "        \n",
    "        \n",
    "        \n",
    "        if  keys==name:\n",
    "            \n",
    "            \n",
    "            \n",
    "            print(\"login\")\n",
    "        \n",
    "            break\n",
    "            \n",
    "            \n",
    "            \n",
    "        \n",
    "            \n",
    "            \n",
    "        \n",
    "    \n",
    "            \n",
    "            \n",
    "            \n",
    "            \n",
    "\n",
    "name=input(\"enter your password ker:\")\n",
    "\n",
    "login(dict,name)"
   ]
  },
  {
   "cell_type": "code",
   "execution_count": null,
   "metadata": {},
   "outputs": [],
   "source": []
  },
  {
   "cell_type": "code",
   "execution_count": null,
   "metadata": {},
   "outputs": [],
   "source": [
    "d"
   ]
  },
  {
   "cell_type": "code",
   "execution_count": null,
   "metadata": {},
   "outputs": [],
   "source": [
    "def bank():\n",
    "    print(\"Welcome to bhikari bank\")\n",
    "    print(\"press 1 to login\")\n",
    "    print(\"press 2 to signup\")\n",
    "    print(\"press 3 to exit\")\n",
    "    ch = int(input(\"Enter your choice : \"))\n",
    "    if ch <= 0 or ch > 3 : \n",
    "        print(\"Invalid Choice Try Again \")\n",
    "    elif ch==1:\n",
    "        print(\"login plz enter your details\")\n",
    "        login()\n",
    "    elif ch==2:\n",
    "        print(\"sing\")\n",
    "    elif ch==3:\n",
    "        print(\"exit\")\n",
    "        "
   ]
  },
  {
   "cell_type": "code",
   "execution_count": null,
   "metadata": {},
   "outputs": [],
   "source": [
    "data={\n",
    "    1001:{'name':'omkar','password':'12om','bal':90,},\n",
    "    1002:{'name':'vikram','password':'1kar','bal':80}    \n",
    "     \n",
    "                 \n",
    "    \n",
    "    \n",
    "    \n",
    "}\n",
    "def singup():\n",
    "    last=list(data.keys())\n",
    "    last.sort()\n",
    "    new=last[-1]+1\n",
    "    name=input(\"enter your name\")\n",
    "    password=input(\"enter your password\")\n",
    "    bal=int(input(\"enter your amamunt\"))\n",
    "    data[new]={'name':name,'password':password,'bal':bal}\n",
    "\n",
    "    "
   ]
  },
  {
   "cell_type": "code",
   "execution_count": null,
   "metadata": {},
   "outputs": [],
   "source": [
    "-"
   ]
  },
  {
   "cell_type": "code",
   "execution_count": null,
   "metadata": {},
   "outputs": [],
   "source": []
  },
  {
   "cell_type": "code",
   "execution_count": null,
   "metadata": {},
   "outputs": [],
   "source": [
    "\n",
    "def bank():\n",
    "    print(\"Welcome to bhikari bank\")\n",
    "    print(\"*\"*50)\n",
    "    print(\"press 1 to login\")\n",
    "    print(\"*\"*50)\n",
    "    print(\"press 2 to signup\")\n",
    "    print(\"*\"*50)\n",
    "    print(\"press 3 to exit\")\n",
    "    ch = int(input(\"Enter your choice : \"))\n",
    "    if ch <= 0 or ch > 3 : \n",
    "        print(\"Invalid Choice Try Again \")\n",
    "    elif ch==1:\n",
    "        print(\"login plz enter your details\")\n",
    "        login()\n",
    "        \n",
    "             \n",
    "    elif ch==2:\n",
    "        print(\"singup\")\n",
    "        singup()\n",
    "        \n",
    "    elif ch==3:\n",
    "        print(\"exit\")\n",
    "          "
   ]
  },
  {
   "cell_type": "code",
   "execution_count": null,
   "metadata": {},
   "outputs": [],
   "source": [
    "bank()"
   ]
  },
  {
   "cell_type": "code",
   "execution_count": null,
   "metadata": {},
   "outputs": [],
   "source": [
    "data\n"
   ]
  },
  {
   "cell_type": "code",
   "execution_count": null,
   "metadata": {},
   "outputs": [],
   "source": [
    "def hi(old):\n",
    "    def new():\n",
    "        print(\"*\"*50)\n",
    "        print()\n",
    "        old()\n",
    "        print(\"*\"*50)\n",
    "    return new\n",
    "@hi\n",
    "def om():\n",
    "    print(\"hi\")\n",
    "              "
   ]
  },
  {
   "cell_type": "code",
   "execution_count": null,
   "metadata": {},
   "outputs": [],
   "source": [
    "om()"
   ]
  },
  {
   "cell_type": "code",
   "execution_count": null,
   "metadata": {},
   "outputs": [],
   "source": [
    "n=input()\n",
    "n=n.center((1*10))\n",
    "print(n)"
   ]
  },
  {
   "cell_type": "code",
   "execution_count": null,
   "metadata": {},
   "outputs": [],
   "source": [
    "def prime(start,stop=None,step==1):\n",
    "    if  not(stop) and step==1:\n",
    "        \n",
    "        if start%var==0:\n",
    "            print(\"not prime\")\n",
    "        else:\n",
    "        \n",
    "            print(\"prime\")\n",
    "    else:\n",
    "        print(\"f... off\")\n",
    "      "
   ]
  },
  {
   "cell_type": "code",
   "execution_count": null,
   "metadata": {},
   "outputs": [],
   "source": [
    "find=lambda x:\"even\" if x%2==0 else \"odd\"\n",
    "print(find(3))"
   ]
  },
  {
   "cell_type": "code",
   "execution_count": null,
   "metadata": {},
   "outputs": [],
   "source": [
    "gre=lambda x,y,z: x if x>=y and x>=z  else y if y>=z  else z "
   ]
  },
  {
   "cell_type": "code",
   "execution_count": null,
   "metadata": {},
   "outputs": [],
   "source": [
    "gre(3,5,3\n",
    "   )"
   ]
  },
  {
   "cell_type": "code",
   "execution_count": null,
   "metadata": {},
   "outputs": [],
   "source": [
    "def s(x):\n",
    "    \n",
    "    sum=0\n",
    "    while i<x:\n",
    "        sum=i+sum\n",
    "        i+=1\n",
    "        print(sum)\n",
    "s(10)        "
   ]
  },
  {
   "cell_type": "code",
   "execution_count": null,
   "metadata": {},
   "outputs": [],
   "source": [
    "fact=lambda num:1 if num==1 else num*fact(num-1)\n"
   ]
  },
  {
   "cell_type": "code",
   "execution_count": null,
   "metadata": {},
   "outputs": [],
   "source": [
    "fact(4)"
   ]
  },
  {
   "cell_type": "code",
   "execution_count": null,
   "metadata": {},
   "outputs": [],
   "source": [
    "prim=lambda num,check=2: True if check==num//2+1 else False if num%check==0 else prim(num,check+1)"
   ]
  },
  {
   "cell_type": "code",
   "execution_count": null,
   "metadata": {},
   "outputs": [],
   "source": [
    "prim(121)"
   ]
  },
  {
   "cell_type": "code",
   "execution_count": null,
   "metadata": {
    "scrolled": false
   },
   "outputs": [],
   "source": [
    "x=list(map(int(input()).split()))\n",
    "\n",
    "\n"
   ]
  },
  {
   "cell_type": "code",
   "execution_count": null,
   "metadata": {
    "scrolled": true
   },
   "outputs": [],
   "source": [
    "def convert(string_list):\n",
    "    l=[]\n",
    "    for var in string_list:\n",
    "        print(\"var\")\n",
    "convert(\"opi\")"
   ]
  },
  {
   "cell_type": "code",
   "execution_count": null,
   "metadata": {},
   "outputs": [],
   "source": [
    "s1=list(map(int,input().split()))\n"
   ]
  },
  {
   "cell_type": "code",
   "execution_count": null,
   "metadata": {},
   "outputs": [],
   "source": [
    "s2 =list(map(int,input().split()))"
   ]
  },
  {
   "cell_type": "code",
   "execution_count": null,
   "metadata": {},
   "outputs": [],
   "source": [
    "s4 =list(map(int,input().split()))"
   ]
  },
  {
   "cell_type": "code",
   "execution_count": null,
   "metadata": {},
   "outputs": [],
   "source": [
    "s3=list(map(lambda x,y,z:x if x>=y and x>=z else y if y>=z else z,s1, s2,s4))"
   ]
  },
  {
   "cell_type": "code",
   "execution_count": null,
   "metadata": {},
   "outputs": [],
   "source": [
    "s3\n"
   ]
  },
  {
   "cell_type": "code",
   "execution_count": null,
   "metadata": {},
   "outputs": [],
   "source": [
    "s4=list(map(lambda x,y:x**2+y**2,list(map(int,input().split())), list(map(int,input().split())))) "
   ]
  },
  {
   "cell_type": "code",
   "execution_count": null,
   "metadata": {},
   "outputs": [],
   "source": [
    "s4\n"
   ]
  },
  {
   "cell_type": "code",
   "execution_count": null,
   "metadata": {},
   "outputs": [],
   "source": [
    "num=list(map(int,input().split()))\n",
    "prime=list\n"
   ]
  },
  {
   "cell_type": "code",
   "execution_count": null,
   "metadata": {},
   "outputs": [],
   "source": [
    "sq2=list(map(int,input().split()))"
   ]
  },
  {
   "cell_type": "code",
   "execution_count": null,
   "metadata": {
    "scrolled": true
   },
   "outputs": [],
   "source": [
    "help(filter\n",
    "    )"
   ]
  },
  {
   "cell_type": "code",
   "execution_count": null,
   "metadata": {},
   "outputs": [],
   "source": [
    "pwd\n"
   ]
  },
  {
   "cell_type": "code",
   "execution_count": null,
   "metadata": {},
   "outputs": [],
   "source": [
    "cd\n"
   ]
  },
  {
   "cell_type": "code",
   "execution_count": null,
   "metadata": {},
   "outputs": [],
   "source": [
    "f=open('af')"
   ]
  },
  {
   "cell_type": "code",
   "execution_count": null,
   "metadata": {},
   "outputs": [],
   "source": [
    "fp=open('/home/omkar/Desktop/hello.text','w')\n"
   ]
  },
  {
   "cell_type": "code",
   "execution_count": null,
   "metadata": {},
   "outputs": [],
   "source": [
    "fp.write(\"1.omkar 56,65,75\\n\")"
   ]
  },
  {
   "cell_type": "code",
   "execution_count": null,
   "metadata": {},
   "outputs": [],
   "source": [
    "fp.close()"
   ]
  },
  {
   "cell_type": "code",
   "execution_count": null,
   "metadata": {},
   "outputs": [],
   "source": [
    "fp=open('/home/omkar/Desktop/hello.text','w')"
   ]
  },
  {
   "cell_type": "code",
   "execution_count": null,
   "metadata": {},
   "outputs": [],
   "source": [
    "fp.write(\"1.akash 78,57,78\\n\")"
   ]
  },
  {
   "cell_type": "code",
   "execution_count": null,
   "metadata": {},
   "outputs": [],
   "source": [
    "fp.write(\"2.omkar 34,56,75\\n\")"
   ]
  },
  {
   "cell_type": "code",
   "execution_count": null,
   "metadata": {},
   "outputs": [],
   "source": [
    "fp.write(\"3.bhawesh 86,86,34\")\n"
   ]
  },
  {
   "cell_type": "code",
   "execution_count": null,
   "metadata": {},
   "outputs": [],
   "source": [
    "fp.close()"
   ]
  },
  {
   "cell_type": "code",
   "execution_count": null,
   "metadata": {},
   "outputs": [],
   "source": [
    "fp=open('/home/omkar/Desktop/hello.text')"
   ]
  },
  {
   "cell_type": "code",
   "execution_count": null,
   "metadata": {},
   "outputs": [],
   "source": [
    "print(fp)"
   ]
  },
  {
   "cell_type": "code",
   "execution_count": null,
   "metadata": {},
   "outputs": [],
   "source": [
    "fp.read()"
   ]
  },
  {
   "cell_type": "code",
   "execution_count": null,
   "metadata": {},
   "outputs": [],
   "source": [
    "fp.read()"
   ]
  },
  {
   "cell_type": "code",
   "execution_count": null,
   "metadata": {},
   "outputs": [],
   "source": [
    "fp.seek(0)"
   ]
  },
  {
   "cell_type": "code",
   "execution_count": null,
   "metadata": {},
   "outputs": [],
   "source": [
    "fp.read()"
   ]
  },
  {
   "cell_type": "code",
   "execution_count": null,
   "metadata": {},
   "outputs": [],
   "source": [
    "fp.close()"
   ]
  },
  {
   "cell_type": "code",
   "execution_count": null,
   "metadata": {},
   "outputs": [],
   "source": [
    "fp=open('/home/omkar/Desktop/hello.text','r')"
   ]
  },
  {
   "cell_type": "code",
   "execution_count": null,
   "metadata": {},
   "outputs": [],
   "source": [
    "data=fp.read()"
   ]
  },
  {
   "cell_type": "code",
   "execution_count": null,
   "metadata": {},
   "outputs": [],
   "source": [
    "print(data)"
   ]
  },
  {
   "cell_type": "code",
   "execution_count": null,
   "metadata": {},
   "outputs": [],
   "source": [
    "data"
   ]
  },
  {
   "cell_type": "code",
   "execution_count": null,
   "metadata": {},
   "outputs": [],
   "source": [
    "fp.seek(0)"
   ]
  },
  {
   "cell_type": "code",
   "execution_count": null,
   "metadata": {},
   "outputs": [],
   "source": [
    "data"
   ]
  },
  {
   "cell_type": "code",
   "execution_count": null,
   "metadata": {},
   "outputs": [],
   "source": [
    "fp.read()"
   ]
  },
  {
   "cell_type": "code",
   "execution_count": null,
   "metadata": {},
   "outputs": [],
   "source": [
    "fp=open('/home/omkar/Desktop/hello.text','w')"
   ]
  },
  {
   "cell_type": "code",
   "execution_count": null,
   "metadata": {},
   "outputs": [],
   "source": [
    "fp.write(\"product,quality,sell prize,actual prize \\n\")"
   ]
  },
  {
   "cell_type": "code",
   "execution_count": null,
   "metadata": {},
   "outputs": [],
   "source": [
    "fp.write(\"\"\"pd_1001,10,500,450\n",
    "pd_1002,15,300,250\n",
    "pd_1003,17,200,180\n",
    "pd_1004,7,700,620\n",
    "pd_1005,6,650,480\"\"\")"
   ]
  },
  {
   "cell_type": "code",
   "execution_count": null,
   "metadata": {},
   "outputs": [],
   "source": [
    "fp.close()"
   ]
  },
  {
   "cell_type": "code",
   "execution_count": null,
   "metadata": {},
   "outputs": [],
   "source": [
    "fp=open('/home/omkar/Desktop/hello.text')\n",
    "data=fp.read()\n",
    "fp.close()\n",
    "print(data)"
   ]
  },
  {
   "cell_type": "code",
   "execution_count": null,
   "metadata": {},
   "outputs": [],
   "source": [
    "raw_data=data.split('\\n')"
   ]
  },
  {
   "cell_type": "code",
   "execution_count": null,
   "metadata": {},
   "outputs": [],
   "source": [
    "raw_data"
   ]
  },
  {
   "cell_type": "code",
   "execution_count": null,
   "metadata": {},
   "outputs": [],
   "source": [
    "new_data=[var.split(',  ')for var in raw_data]"
   ]
  },
  {
   "cell_type": "code",
   "execution_count": null,
   "metadata": {},
   "outputs": [],
   "source": [
    "new_data"
   ]
  },
  {
   "cell_type": "code",
   "execution_count": null,
   "metadata": {},
   "outputs": [],
   "source": [
    "data='product\\tquality\\tsell prize\\tactual prize\\n'\n",
    "n=int(input('enter rows:' ))\n",
    "for var in range(n):\n",
    "            d=input().split(',')\n",
    "            data += '\\t'.join(d)+'\\n'\n",
    "print(data)            "
   ]
  },
  {
   "cell_type": "code",
   "execution_count": null,
   "metadata": {},
   "outputs": [],
   "source": [
    "f=open(\"sel.tsv\",\"w\")\n",
    "f.write(data)\n",
    "f.close()"
   ]
  },
  {
   "cell_type": "code",
   "execution_count": null,
   "metadata": {},
   "outputs": [],
   "source": [
    "f=open(\"sel.tsv\")\n",
    "sell_data=f.read().split('\\n')\n",
    "\n",
    "print(sell_data)"
   ]
  },
  {
   "cell_type": "code",
   "execution_count": null,
   "metadata": {},
   "outputs": [],
   "source": [
    "f=open(\"sel.tsv\")\n",
    "sell_data=f.read().split('\\n')\n",
    "sell_data=[entry.split('\\t') for entry in sell_data[:-1]]\n",
    "print(sell_data)"
   ]
  },
  {
   "cell_type": "code",
   "execution_count": null,
   "metadata": {},
   "outputs": [],
   "source": [
    "total_sell=0\n",
    "total_profit=[]\n",
    "\n",
    "for entry in sell_data[1:]:\n",
    "        if entry:\n",
    "            \n",
    "            entry[1:]=map(int,entry[1:])\n",
    "            total_profit.append(entry[1]*(entry[2]-entry[3]))\n",
    "            total_sell+=entry[1]*entry[2]"
   ]
  },
  {
   "cell_type": "code",
   "execution_count": null,
   "metadata": {},
   "outputs": [],
   "source": [
    "print(total_sell)"
   ]
  },
  {
   "cell_type": "code",
   "execution_count": null,
   "metadata": {},
   "outputs": [],
   "source": [
    "print(total_profit)"
   ]
  },
  {
   "cell_type": "code",
   "execution_count": null,
   "metadata": {},
   "outputs": [],
   "source": [
    "print(entry)"
   ]
  },
  {
   "cell_type": "code",
   "execution_count": null,
   "metadata": {},
   "outputs": [],
   "source": [
    "f.close()"
   ]
  },
  {
   "cell_type": "code",
   "execution_count": null,
   "metadata": {},
   "outputs": [],
   "source": [
    "data='employee_code\\t,fullname\\t,city\\t,age\\t,current city\\n'\n",
    "n=int(input('enter the number of employee:'))\n",
    "for var in range(n):\n",
    "    d=input().split(',')\n",
    "    data += '\\t'.join(d)+'\\n'\n",
    "print(data)    "
   ]
  },
  {
   "cell_type": "code",
   "execution_count": null,
   "metadata": {},
   "outputs": [],
   "source": [
    "fp=open('employee_list.csv','w')\n",
    "fp.write(data)\n",
    "fp.close()"
   ]
  },
  {
   "cell_type": "code",
   "execution_count": null,
   "metadata": {},
   "outputs": [],
   "source": [
    "fp=open(\"employee_list.csv\")\n",
    "employee_data=fp.read().split('\\n')\n",
    "\n",
    "print(employee_data)"
   ]
  },
  {
   "cell_type": "code",
   "execution_count": null,
   "metadata": {},
   "outputs": [],
   "source": [
    "fp=open(\"employee_list.csv\")\n",
    "employee_data=f.read().split('\\n')\n",
    "employee_data=[entry.split('\\t') for entry in employee_data[:-1]]\n",
    "print(employee_data)"
   ]
  },
  {
   "cell_type": "code",
   "execution_count": null,
   "metadata": {},
   "outputs": [],
   "source": [
    "employee_data[1]"
   ]
  },
  {
   "cell_type": "code",
   "execution_count": null,
   "metadata": {},
   "outputs": [],
   "source": [
    "\n",
    "for entry in employee_data[1:]:\n",
    "        if entry:\n",
    "            \n",
    "            print(entry)"
   ]
  },
  {
   "cell_type": "code",
   "execution_count": null,
   "metadata": {},
   "outputs": [],
   "source": [
    "d='employee_code\\tfullname\\tcity\\tage\\tcurrent city\\n'\n",
    "f=open('contractors_list.xlsx','w')\n",
    "f.write(d)\n",
    "f.close()\n",
    "        \n"
   ]
  },
  {
   "cell_type": "code",
   "execution_count": null,
   "metadata": {},
   "outputs": [],
   "source": [
    "d='employee_code\\tfullname\\tcity\\tage\\tcurrent city\\n'\n",
    "f1=open('nem_record.csv','w')\n",
    "f1.write(d)\n",
    "f1.close()"
   ]
  },
  {
   "cell_type": "code",
   "execution_count": null,
   "metadata": {},
   "outputs": [],
   "source": [
    "n=int(input('enter the number of employee:'))\n",
    "for var in range(n):\n",
    "    r=input().split(',')\n",
    "    \n",
    "    b+='\\t'.join(r)+'\\n'\n",
    "    f1=open('nem_record.csv','a')\n",
    "    f1.write(b)\n",
    "    f1.close()\n",
    "    "
   ]
  },
  {
   "cell_type": "code",
   "execution_count": null,
   "metadata": {},
   "outputs": [],
   "source": [
    "p=input('enter the employee type:')\n",
    "if p=='emp':\n",
    "    #d='employee_code\\t,fullname\\t,city\\t,age\\t,current city\\n'\n",
    "    n=int(input('enter the number of new employee'))\n",
    "    for var in range(n):\n",
    "        e=input().split(',')\n",
    "        x+= '\\t'.join(e)+'\\n'\n",
    "        fp=open('employee_list.csv','a')\n",
    "        fp.write(x)\n",
    "        fp.close()\n",
    "#d='employee_code\\tfullname\\tcity\\tage\\tcurrent city\\n'        \n",
    "else:\n",
    "    #d='employee_code\\tfullname\\tcity\\tage\\tcurrent city\\n'\n",
    "    m=int(input('enter the number of new employee:'))\n",
    "    for var in range(m):\n",
    "        e=input().split(',')\n",
    "        x+='\\t'.join(e)+'\\n'\n",
    "        f=open('contractors_list.xlsx','a')\n",
    "        f.write(x)\n",
    "        f.close()\n",
    "        \n",
    "    \n",
    "        \n",
    "        \n",
    "    "
   ]
  },
  {
   "cell_type": "code",
   "execution_count": null,
   "metadata": {},
   "outputs": [],
   "source": [
    "d='omkak\\t,akk\\n'\n",
    "n=input().split(',')\n",
    "d+='\\t'.join(n)+'\\n'\n",
    "print(d)"
   ]
  },
  {
   "cell_type": "code",
   "execution_count": null,
   "metadata": {},
   "outputs": [],
   "source": [
    "list=['a','b']\n",
    "for ind in list:\n",
    "    ind.upper()\n",
    "    print(ind)    "
   ]
  },
  {
   "cell_type": "code",
   "execution_count": null,
   "metadata": {},
   "outputs": [],
   "source": [
    "#json and pickle\n"
   ]
  },
  {
   "cell_type": "code",
   "execution_count": null,
   "metadata": {},
   "outputs": [],
   "source": [
    "import json"
   ]
  },
  {
   "cell_type": "code",
   "execution_count": null,
   "metadata": {},
   "outputs": [],
   "source": [
    "import sys\n"
   ]
  },
  {
   "cell_type": "code",
   "execution_count": null,
   "metadata": {},
   "outputs": [],
   "source": [
    "sys.version\n"
   ]
  },
  {
   "cell_type": "code",
   "execution_count": null,
   "metadata": {},
   "outputs": [],
   "source": [
    "sys.platform"
   ]
  },
  {
   "cell_type": "code",
   "execution_count": null,
   "metadata": {},
   "outputs": [],
   "source": [
    "import os\n"
   ]
  },
  {
   "cell_type": "code",
   "execution_count": null,
   "metadata": {},
   "outputs": [],
   "source": [
    "os.environ"
   ]
  },
  {
   "cell_type": "code",
   "execution_count": null,
   "metadata": {},
   "outputs": [],
   "source": [
    "pwd"
   ]
  },
  {
   "cell_type": "code",
   "execution_count": null,
   "metadata": {},
   "outputs": [],
   "source": [
    "os.getcwd()"
   ]
  },
  {
   "cell_type": "code",
   "execution_count": null,
   "metadata": {},
   "outputs": [],
   "source": [
    "os.system('notepad')"
   ]
  },
  {
   "cell_type": "code",
   "execution_count": null,
   "metadata": {},
   "outputs": [],
   "source": [
    "os.system('ls')"
   ]
  },
  {
   "cell_type": "code",
   "execution_count": null,
   "metadata": {},
   "outputs": [],
   "source": [
    "os.path"
   ]
  },
  {
   "cell_type": "code",
   "execution_count": null,
   "metadata": {},
   "outputs": [],
   "source": [
    "result=os.walk('hello.text')"
   ]
  },
  {
   "cell_type": "code",
   "execution_count": null,
   "metadata": {},
   "outputs": [],
   "source": [
    "k=list(result)"
   ]
  },
  {
   "cell_type": "code",
   "execution_count": null,
   "metadata": {},
   "outputs": [],
   "source": [
    "k"
   ]
  },
  {
   "cell_type": "code",
   "execution_count": null,
   "metadata": {},
   "outputs": [],
   "source": [
    "pwd"
   ]
  },
  {
   "cell_type": "code",
   "execution_count": null,
   "metadata": {},
   "outputs": [],
   "source": [
    "pwd(''/home'')"
   ]
  },
  {
   "cell_type": "code",
   "execution_count": null,
   "metadata": {},
   "outputs": [],
   "source": [
    "pwd\n"
   ]
  },
  {
   "cell_type": "code",
   "execution_count": null,
   "metadata": {},
   "outputs": [],
   "source": [
    "result=os.walk('videos')"
   ]
  },
  {
   "cell_type": "code",
   "execution_count": null,
   "metadata": {},
   "outputs": [],
   "source": [
    "import os\n"
   ]
  },
  {
   "cell_type": "code",
   "execution_count": null,
   "metadata": {},
   "outputs": [],
   "source": [
    "result=os.walk('/home/omkar/python')"
   ]
  },
  {
   "cell_type": "code",
   "execution_count": null,
   "metadata": {},
   "outputs": [],
   "source": [
    "k=list(result)"
   ]
  },
  {
   "cell_type": "code",
   "execution_count": null,
   "metadata": {},
   "outputs": [],
   "source": [
    "k"
   ]
  },
  {
   "cell_type": "code",
   "execution_count": null,
   "metadata": {},
   "outputs": [],
   "source": [
    "n=input('enter filename :')\n",
    "for path,dirt,filename in k:\n",
    "    print(\"path\")\n",
    "    if dirt:\n",
    "        print(dirt)\n",
    "    if filename:\n",
    "        print('file is exists:',filename)\n",
    "    print('\\n')    "
   ]
  },
  {
   "cell_type": "code",
   "execution_count": null,
   "metadata": {},
   "outputs": [],
   "source": [
    "kill?"
   ]
  },
  {
   "cell_type": "code",
   "execution_count": null,
   "metadata": {},
   "outputs": [],
   "source": [
    "print(kill)"
   ]
  },
  {
   "cell_type": "code",
   "execution_count": null,
   "metadata": {},
   "outputs": [],
   "source": [
    "os.rmdir('/home/omkar/Desktop/om')"
   ]
  },
  {
   "cell_type": "code",
   "execution_count": null,
   "metadata": {},
   "outputs": [],
   "source": [
    "ls\n"
   ]
  },
  {
   "cell_type": "code",
   "execution_count": null,
   "metadata": {},
   "outputs": [],
   "source": [
    "dir"
   ]
  },
  {
   "cell_type": "code",
   "execution_count": null,
   "metadata": {},
   "outputs": [],
   "source": [
    "ls -l"
   ]
  },
  {
   "cell_type": "code",
   "execution_count": null,
   "metadata": {},
   "outputs": [],
   "source": [
    "toc=''"
   ]
  },
  {
   "cell_type": "code",
   "execution_count": null,
   "metadata": {},
   "outputs": [],
   "source": [
    "toc"
   ]
  },
  {
   "cell_type": "code",
   "execution_count": null,
   "metadata": {},
   "outputs": [],
   "source": [
    "w,+,b,wb\n",
    "r,+,b\n",
    "\n",
    "a,+,b"
   ]
  },
  {
   "cell_type": "code",
   "execution_count": null,
   "metadata": {},
   "outputs": [],
   "source": [
    "fp=open('hello.txt','a')"
   ]
  },
  {
   "cell_type": "code",
   "execution_count": null,
   "metadata": {},
   "outputs": [],
   "source": [
    "fp.write('hi aman')"
   ]
  },
  {
   "cell_type": "code",
   "execution_count": null,
   "metadata": {},
   "outputs": [],
   "source": [
    "fp.close()"
   ]
  },
  {
   "cell_type": "code",
   "execution_count": null,
   "metadata": {},
   "outputs": [],
   "source": [
    "data=''\n",
    "fp=open('hello.txt')"
   ]
  },
  {
   "cell_type": "code",
   "execution_count": null,
   "metadata": {},
   "outputs": [],
   "source": [
    "data=fp.read()"
   ]
  },
  {
   "cell_type": "code",
   "execution_count": null,
   "metadata": {},
   "outputs": [],
   "source": [
    "data"
   ]
  },
  {
   "cell_type": "code",
   "execution_count": null,
   "metadata": {},
   "outputs": [],
   "source": [
    "pwd\n"
   ]
  },
  {
   "cell_type": "code",
   "execution_count": null,
   "metadata": {},
   "outputs": [],
   "source": [
    "b=\"\"\n",
    "x=\"\"\n",
    "p=input('enter the employee type:')\n",
    "n=int(input('enter the number of new employee for new record:'))\n",
    "for var in range(n):\n",
    "    r=input().split(',')\n",
    "    \n",
    "    b+='\\t'.join(r)+'\\n'\n",
    "    f1=open('nem_record.csv','a')\n",
    "    f1.write(b)\n",
    "    f1.close()\n",
    "    \n",
    "    if p=='emp':\n",
    "    #d='employee_code\\t,fullname\\t,city\\t,age\\t,current city\\n'\n",
    "       \n",
    "    \n",
    "        #e=input().split(',')\n",
    "        #x+= '\\t'.join(e)+'\\n'\n",
    "        fp=open('employee_list.csv','a')\n",
    "        fp.write(b)\n",
    "        fp.close()\n",
    "#d='employee_code\\tfullname\\tcity\\tage\\tcurrent city\\n'        \n",
    "    else:\n",
    "    #d='employee_code\\tfullname\\tcity\\tage\\tcurrent city\\n'\n",
    "        \n",
    "    \n",
    "        #e=input().split(',')\n",
    "        #x+='\\t'.join(e)+'\\n'\n",
    "        f=open('contractors_list.xlsx','a')\n",
    "        f.write(b)\n",
    "        f.close()"
   ]
  },
  {
   "cell_type": "code",
   "execution_count": null,
   "metadata": {},
   "outputs": [],
   "source": [
    "b"
   ]
  },
  {
   "cell_type": "code",
   "execution_count": null,
   "metadata": {},
   "outputs": [],
   "source": [
    "x=\"\"\n",
    "p=input('enter the employee type:')\n",
    "if p=='emp':\n",
    "    #d='employee_code\\t,fullname\\t,city\\t,age\\t,current city\\n'\n",
    "    n=int(input('enter the number of new employee'))\n",
    "    for var in range(n):\n",
    "        e=input().split(',')\n",
    "        x+= '\\t'.join(e)+'\\n'\n",
    "        fp=open('employee_list.csv','a')\n",
    "        fp.write(x)\n",
    "        fp.close()\n",
    "#d='employee_code\\tfullname\\tcity\\tage\\tcurrent city\\n'        \n",
    "else:\n",
    "    #d='employee_code\\tfullname\\tcity\\tage\\tcurrent city\\n'\n",
    "    m=int(input('enter the number of other employee:'))\n",
    "    for var in range(m):\n",
    "        e=input().split(',')\n",
    "        x+='\\t'.join(e)+'\\n'\n",
    "        f=open('contractors_list.xlsx','a')\n",
    "        f.write(x)\n",
    "        f.close()"
   ]
  },
  {
   "cell_type": "code",
   "execution_count": null,
   "metadata": {},
   "outputs": [],
   "source": [
    "om=''\n",
    "print('ok'+om)"
   ]
  },
  {
   "cell_type": "code",
   "execution_count": null,
   "metadata": {},
   "outputs": [],
   "source": [
    "om"
   ]
  },
  {
   "cell_type": "code",
   "execution_count": null,
   "metadata": {},
   "outputs": [],
   "source": [
    "import socket\n"
   ]
  },
  {
   "cell_type": "code",
   "execution_count": null,
   "metadata": {},
   "outputs": [],
   "source": [
    "socket.gethostname()"
   ]
  },
  {
   "cell_type": "code",
   "execution_count": null,
   "metadata": {},
   "outputs": [],
   "source": [
    "socket.gethostbyname(socket.gethostname())"
   ]
  },
  {
   "cell_type": "code",
   "execution_count": null,
   "metadata": {},
   "outputs": [],
   "source": [
    "socket.gethostbyname('www.xvideos.com')"
   ]
  },
  {
   "cell_type": "code",
   "execution_count": null,
   "metadata": {},
   "outputs": [],
   "source": [
    "import threading"
   ]
  },
  {
   "cell_type": "code",
   "execution_count": null,
   "metadata": {},
   "outputs": [],
   "source": []
  },
  {
   "cell_type": "code",
   "execution_count": null,
   "metadata": {},
   "outputs": [],
   "source": [
    "from random import choice\n",
    "from time import sleep\n",
    "l=[0.1,0.5,0.8,1.5,5]\n",
    "def hello(name):\n",
    "    for var in range (5):\n",
    "        print(f\"hello {name}\")\n",
    "        sleep(choice(l))\n",
    "        \n",
    "def by(name,lname):\n",
    "    for var in range (5):\n",
    "        print(f\"tata{name},{lname}\")\n",
    "        sleep(choice(l))       \n",
    "    \n",
    "    \n",
    "    "
   ]
  },
  {
   "cell_type": "code",
   "execution_count": null,
   "metadata": {},
   "outputs": [],
   "source": [
    "th1=threading.Thread(target=hello,args=('harsh',))\n",
    "th2=threading.Thread(target=by,args=('om','kar'))"
   ]
  },
  {
   "cell_type": "code",
   "execution_count": null,
   "metadata": {},
   "outputs": [],
   "source": [
    "th1.start()\n",
    "th2.start()\n",
    "\n",
    "th1.join()\n",
    "th2.join()"
   ]
  },
  {
   "cell_type": "code",
   "execution_count": null,
   "metadata": {},
   "outputs": [],
   "source": [
    "import socket"
   ]
  },
  {
   "cell_type": "code",
   "execution_count": null,
   "metadata": {},
   "outputs": [],
   "source": [
    "class hunman:\n",
    "    def learn(self,item)\n"
   ]
  },
  {
   "cell_type": "code",
   "execution_count": null,
   "metadata": {},
   "outputs": [],
   "source": [
    "class q :\n",
    "    total_q=0\n",
    "    def __init__(self):\n",
    "        self.data=[]\n",
    "        q.total_q += 1\n",
    "    def push(self,item):\n",
    "        j=0\n",
    "        n=int(input('enter a number you want to ad'))\n",
    "        while j<n:\n",
    "            i=int(input('enter a number'))\n",
    "            \n",
    "            j+=1\n",
    "            \n",
    "        \n",
    "        \n",
    "            self.data.append(i)\n",
    "            print('added')\n",
    "    def remove(self):\n",
    "        j=0\n",
    "        n=int(input('enter a number you want to remove'))\n",
    "        while j<n:\n",
    "            \n",
    "            \n",
    "            j+=1\n",
    "            \n",
    "            if len(self.data):\n",
    "                self.data.remove(self.data[0])\n",
    "            \n",
    "                print(\"del\")\n",
    "            else:\n",
    "                print(\"empty q\")\n",
    "    def __str__(self):\n",
    "        return str(self.data)\n",
    "    \n",
    "        \n",
    "        \n",
    "    "
   ]
  },
  {
   "cell_type": "code",
   "execution_count": null,
   "metadata": {},
   "outputs": [],
   "source": [
    "\n",
    "s1=q()\n",
    "s2=q()"
   ]
  },
  {
   "cell_type": "code",
   "execution_count": null,
   "metadata": {},
   "outputs": [],
   "source": [
    "s1.push(1)"
   ]
  },
  {
   "cell_type": "markdown",
   "metadata": {},
   "source": [
    "print(hi)"
   ]
  },
  {
   "cell_type": "code",
   "execution_count": null,
   "metadata": {},
   "outputs": [],
   "source": [
    "s1.remove()"
   ]
  },
  {
   "cell_type": "code",
   "execution_count": null,
   "metadata": {},
   "outputs": [],
   "source": [
    "s2.push(1)\n"
   ]
  },
  {
   "cell_type": "code",
   "execution_count": null,
   "metadata": {},
   "outputs": [],
   "source": [
    "print(s2)"
   ]
  },
  {
   "cell_type": "code",
   "execution_count": null,
   "metadata": {},
   "outputs": [],
   "source": [
    "s2.remove()"
   ]
  },
  {
   "cell_type": "code",
   "execution_count": null,
   "metadata": {},
   "outputs": [],
   "source": [
    "print(s2)"
   ]
  },
  {
   "cell_type": "code",
   "execution_count": null,
   "metadata": {},
   "outputs": [],
   "source": [
    "s2.total_q"
   ]
  },
  {
   "cell_type": "code",
   "execution_count": null,
   "metadata": {},
   "outputs": [],
   "source": [
    "class o:\n",
    "    def io(self):\n",
    "        print('hello')\n",
    "        "
   ]
  },
  {
   "cell_type": "code",
   "execution_count": null,
   "metadata": {},
   "outputs": [],
   "source": [
    "s1=o()"
   ]
  },
  {
   "cell_type": "code",
   "execution_count": null,
   "metadata": {},
   "outputs": [],
   "source": [
    "s1.io()"
   ]
  },
  {
   "cell_type": "code",
   "execution_count": null,
   "metadata": {},
   "outputs": [],
   "source": [
    "class person:\n",
    "    total_obe=0\n",
    "    def __init__(self,name,colour,country):\n",
    "        self.name=name\n",
    "        self.colour=colour\n",
    "        self.country=country\n",
    "        person.total_obe=+1\n",
    "    def learn(self,item):\n",
    "        self.item=item\n",
    "    def die(self):\n",
    "        pass\n",
    "    def run(self):\n",
    "        pass\n",
    "    def think(self):\n",
    "        pass\n",
    "    def __str__(self):\n",
    "        return str(self.name)\n",
    "p1=person('om','ok','ad')\n",
    "p2=person('os','asd','asd')"
   ]
  },
  {
   "cell_type": "code",
   "execution_count": null,
   "metadata": {},
   "outputs": [],
   "source": [
    "print(p1)"
   ]
  },
  {
   "cell_type": "code",
   "execution_count": null,
   "metadata": {},
   "outputs": [],
   "source": [
    "print(p1.__dict__)"
   ]
  },
  {
   "cell_type": "code",
   "execution_count": null,
   "metadata": {},
   "outputs": [],
   "source": [
    "del p1.name"
   ]
  },
  {
   "cell_type": "code",
   "execution_count": null,
   "metadata": {},
   "outputs": [],
   "source": [
    "p2.total_obe"
   ]
  },
  {
   "cell_type": "code",
   "execution_count": null,
   "metadata": {},
   "outputs": [],
   "source": [
    "p1.learn('om')"
   ]
  },
  {
   "cell_type": "code",
   "execution_count": null,
   "metadata": {},
   "outputs": [],
   "source": [
    "print(p1.item)"
   ]
  },
  {
   "cell_type": "code",
   "execution_count": null,
   "metadata": {},
   "outputs": [],
   "source": [
    "def hii(name):\n",
    "    x=input('enter your roll number: ')\n",
    "    if x=='17egjcs105':\n",
    "            \n",
    "            print('hii omkar')\n",
    "    else:\n",
    "            print('by')"
   ]
  },
  {
   "cell_type": "code",
   "execution_count": null,
   "metadata": {},
   "outputs": [],
   "source": [
    " stu_d={\n",
    "         '17egjcs105':{'name':'omkar','attendance':75,'password':'om'},\n",
    "         '17egjcs106':{'name':'akash','attendance':65,'password':'kar'},\n",
    "         '17egjcs108':{'name':'aman','attendance':55,'password':'bye'}\n",
    "     \n",
    "                 \n",
    "    \n",
    "    \n",
    "    \n",
    "}\n",
    "def student_data():\n",
    "        r=input('enter your roll number:')\n",
    "        if r in stu_d:\n",
    "            p=input('enter your password:')\n",
    "            \n",
    "            if p==stu_d[r]['password']:\n",
    "                print(f\"your attendance is { stu_d[r]['attendance']}%\")\n",
    "            else:\n",
    "                print('your password is worng')\n",
    "        else:\n",
    "            print(\"your roll number is invalid\")\n",
    "                \n",
    "        "
   ]
  },
  {
   "cell_type": "code",
   "execution_count": null,
   "metadata": {},
   "outputs": [],
   "source": [
    "student_data()"
   ]
  },
  {
   "cell_type": "code",
   "execution_count": null,
   "metadata": {},
   "outputs": [],
   "source": [
    "class d:\n",
    "    def __init__(self,name):\n",
    "        self.name=name\n",
    "        print('hii om :',self.name)\n",
    "        "
   ]
  },
  {
   "cell_type": "code",
   "execution_count": null,
   "metadata": {},
   "outputs": [],
   "source": [
    "s1=d()"
   ]
  },
  {
   "cell_type": "code",
   "execution_count": null,
   "metadata": {},
   "outputs": [],
   "source": [
    "s1.__init__('om')"
   ]
  },
  {
   "cell_type": "code",
   "execution_count": null,
   "metadata": {},
   "outputs": [],
   "source": []
  },
  {
   "cell_type": "code",
   "execution_count": null,
   "metadata": {},
   "outputs": [],
   "source": [
    " stu_d={\n",
    "         '17egjcs105':{'name':'omkar','attendance':75,'password':'om',},\n",
    "         '17egjcs106':{'name':'akash','attendance':65,'password':'kar'},\n",
    "         '17egjcs108':{'name':'aman','attendance':55,'password':'bye'}\n",
    "     \n",
    "                 \n",
    "    \n",
    "    \n",
    "    \n",
    "}"
   ]
  },
  {
   "cell_type": "code",
   "execution_count": null,
   "metadata": {},
   "outputs": [],
   "source": [
    "import json\n",
    "d={\n",
    "    'omkar1008':'done'\n",
    "}\n",
    "print('when you enter your conformation code your old storage was deleted')\n",
    "x=input('enter your conformation code:' )\n",
    "if x in d:\n",
    "    f=open('attendancerecord.csv','w')\n",
    "    json.dump(stu_d,f) \n",
    "    f.close()\n",
    "else:\n",
    "    print('your code was wrong')"
   ]
  },
  {
   "cell_type": "code",
   "execution_count": null,
   "metadata": {},
   "outputs": [],
   "source": [
    "print(\"****************************only for student use**************************************\")\n",
    "f=open('attendancerecord.text')\n",
    "d=f.read()\n",
    "f.seek(0)\n",
    "data=json.load(f)\n",
    "def student_data():\n",
    "        rolln=input('enter your roll number:')\n",
    "        if rolln in data:\n",
    "            p=input('enter your password:')\n",
    "            \n",
    "            if p==data[rolln]['password']:\n",
    "                print(f\"your attendance is { data[rolln]['attendance']}%\")\n",
    "            else:\n",
    "                print('your password is worng')\n",
    "        else:\n",
    "            print(\"your roll number is invalid\")\n",
    "                "
   ]
  },
  {
   "cell_type": "code",
   "execution_count": null,
   "metadata": {},
   "outputs": [],
   "source": [
    "student_data()"
   ]
  },
  {
   "cell_type": "code",
   "execution_count": null,
   "metadata": {},
   "outputs": [],
   "source": [
    "data['17egjcs105']"
   ]
  },
  {
   "cell_type": "code",
   "execution_count": null,
   "metadata": {},
   "outputs": [],
   "source": [
    "class a:\n",
    "    __slots__=['name','age']\n",
    "    def __init__(self,name,age):\n",
    "        self.name=name\n",
    "        self.age=age\n",
    "    def show(self):\n",
    "        print(f\"my name is {self.name} age {self.age}\")\n",
    "        "
   ]
  },
  {
   "cell_type": "code",
   "execution_count": null,
   "metadata": {},
   "outputs": [],
   "source": [
    "A=a('omkar','42')"
   ]
  },
  {
   "cell_type": "code",
   "execution_count": null,
   "metadata": {},
   "outputs": [],
   "source": [
    "A.show()"
   ]
  },
  {
   "cell_type": "code",
   "execution_count": null,
   "metadata": {},
   "outputs": [],
   "source": [
    "A.om='ad'"
   ]
  },
  {
   "cell_type": "code",
   "execution_count": null,
   "metadata": {},
   "outputs": [],
   "source": [
    "while True:\n",
    "    try:\n",
    "        n=int(input('enter a number:'))\n",
    "        print(n**2)\n",
    "        break\n",
    "    except:\n",
    "        print(\"lol plz enter integer number\")\n",
    "   while True: try: x=int(input(\"enter a number:\")) y=int(input(\"enter a number:\")) r=x/y print(r) break except ValueError as msg: print('bhen ke lode number matlab samaj nai ata madarchod',msg) except Exception as err: print('ch',err) finally: print(\"hi\")\n",
    "else: print(\"i will run on success \")      "
   ]
  },
  {
   "cell_type": "markdown",
   "metadata": {},
   "source": [
    " while True:\n",
    "    try:\n",
    "        x=int(input(\"enter a number:\"))\n",
    "        y=int(input(\"enter a number:\"))\n",
    "        r=x/y\n",
    "        print(r)\n",
    "        break\n",
    "    except ValueError as msg:\n",
    "        print('bhen ke lode number matlab samaj nai ata madarchod',msg)\n",
    "    except Exception as err:\n",
    "        print('ch',err)\n",
    "    finally:\n",
    "        print(\"hi\")    \n",
    "else:\n",
    "    print(\"i will run on success \")\n",
    "    \n",
    "        "
   ]
  },
  {
   "cell_type": "code",
   "execution_count": 8,
   "metadata": {},
   "outputs": [
    {
     "name": "stdout",
     "output_type": "stream",
     "text": [
      "enter a number:12\n",
      "enter a number:12\n",
      "1.0\n",
      "i will run on success \n",
      "hi\n"
     ]
    }
   ],
   "source": [
    "while True: \n",
    "    try:\n",
    "        x=int(input(\"enter a number:\"))\n",
    "        y=int(input(\"enter a number:\"))\n",
    "        r=x/y\n",
    "        print(r)\n",
    "        \n",
    "    except ValueError as msg:\n",
    "        print(msg)\n",
    "    except Exception as err:\n",
    "        print('ch',err)\n",
    "    else:\n",
    "        print(\"i will run on success \") \n",
    "        break\n",
    "    finally:\n",
    "        print(\"hi\")    \n",
    "    \n",
    "    "
   ]
  },
  {
   "cell_type": "code",
   "execution_count": 1,
   "metadata": {},
   "outputs": [
    {
     "name": "stdout",
     "output_type": "stream",
     "text": [
      "enter a number-1\n",
      "number should be positive\n",
      "enter a number12\n"
     ]
    }
   ],
   "source": [
    "while True:\n",
    "    try:\n",
    "        n=int(input(\"enter a number\"))\n",
    "        assert n>0 ,\"number should be positive\"\n",
    "        break\n",
    "    except ValueError as e:\n",
    "        print(e)\n",
    "    except AssertionError as e:\n",
    "        print(e)\n",
    "    else:\n",
    "        print(\"run\")\n",
    "    finally:\n",
    "        print(\"hello\")"
   ]
  },
  {
   "cell_type": "code",
   "execution_count": 2,
   "metadata": {},
   "outputs": [
    {
     "ename": "SyntaxError",
     "evalue": "invalid syntax (<ipython-input-2-ec68fa665344>, line 1)",
     "output_type": "error",
     "traceback": [
      "\u001b[0;36m  File \u001b[0;32m\"<ipython-input-2-ec68fa665344>\"\u001b[0;36m, line \u001b[0;32m1\u001b[0m\n\u001b[0;31m    while True: try: x=int(input(\"enter a number:\")) y=int(input(\"enter a number:\")) r=x/y print(r) break except ValueError as msg: print('bhen ke lode number matlab samaj nai ata madarchod',msg) except Exception as err: print('ch',err) finally: print(\"hi\")\u001b[0m\n\u001b[0m                  ^\u001b[0m\n\u001b[0;31mSyntaxError\u001b[0m\u001b[0;31m:\u001b[0m invalid syntax\n"
     ]
    }
   ],
   "source": [
    " while True: try: x=int(input(\"enter a number:\")) y=int(input(\"enter a number:\")) r=x/y print(r) break except ValueError as msg: print('bhen ke lode number matlab samaj nai ata madarchod',msg) except Exception as err: print('ch',err) finally: print(\"hi\")\n",
    "else: print(\"i will run on success \")"
   ]
  },
  {
   "cell_type": "code",
   "execution_count": null,
   "metadata": {},
   "outputs": [],
   "source": []
  }
 ],
 "metadata": {
  "kernelspec": {
   "display_name": "Python 3",
   "language": "python",
   "name": "python3"
  },
  "language_info": {
   "codemirror_mode": {
    "name": "ipython",
    "version": 3
   },
   "file_extension": ".py",
   "mimetype": "text/x-python",
   "name": "python",
   "nbconvert_exporter": "python",
   "pygments_lexer": "ipython3",
   "version": "3.6.7"
  }
 },
 "nbformat": 4,
 "nbformat_minor": 2
}
