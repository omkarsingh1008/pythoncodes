{
 "cells": [
  {
   "cell_type": "code",
   "execution_count": 2,
   "metadata": {},
   "outputs": [],
   "source": [
    "d='employee_code\\tfullname\\tcity\\tage\\tcurrent city\\n'\n",
    "f1=open('nem_record.csv','a+')\n",
    "f1.write(d)\n",
    "f1.close()"
   ]
  },
  {
   "cell_type": "code",
   "execution_count": null,
   "metadata": {},
   "outputs": [],
   "source": [
    "b=\"\"\n",
    "n=int(input('enter the number of employee:'))\n",
    "for var in range(n):\n",
    "    r=input().split(',')\n",
    "    \n",
    "    b+='\\t'.join(r)+'\\n'\n",
    "    f1=open('nem_record.csv','a')\n",
    "    f1.write(b)\n",
    "    f1.close()\n",
    "    "
   ]
  },
  {
   "cell_type": "code",
   "execution_count": null,
   "metadata": {},
   "outputs": [],
   "source": [
    "data='employee_code\\t,fullname\\t,city\\t,age\\t,current city\\n'\n",
    "n=int(input('enter the number of employee:'))\n",
    "for var in range(n):\n",
    "    d=input().split(',')\n",
    "    data += '\\t'.join(d)+'\\n'\n",
    "    fp=open('employee_list.csv','a+')\n",
    "    fp.write(data)\n",
    "    fp.close()\n"
   ]
  },
  {
   "cell_type": "code",
   "execution_count": null,
   "metadata": {},
   "outputs": [],
   "source": [
    "d='employee_code\\tfullname\\tcity\\tage\\tcurrent city\\n'\n",
    "f=open('contractors_list.xlsx','a+')\n",
    "f.write(d)\n",
    "f.close()"
   ]
  },
  {
   "cell_type": "code",
   "execution_count": 1,
   "metadata": {},
   "outputs": [
    {
     "name": "stdout",
     "output_type": "stream",
     "text": [
      "enter the employee type:tmp\n",
      "enter the number of new employee:1\n",
      "tmp_5,bhavesh,tokyo,21,jaipur\n"
     ]
    }
   ],
   "source": [
    "x=\"\"\n",
    "p=input('enter the employee type:')\n",
    "if p=='emp':\n",
    "    #d='employee_code\\t,fullname\\t,city\\t,age\\t,current city\\n'\n",
    "    n=int(input('enter the number of new employee'))\n",
    "    for var in range(n):\n",
    "        e=input().split(',')\n",
    "        x+= '\\t'.join(e)+'\\n'\n",
    "        fp=open('employee_list.csv','a')\n",
    "        fp.write(x)\n",
    "        fp.close()\n",
    "#d='employee_code\\tfullname\\tcity\\tage\\tcurrent city\\n'        \n",
    "else:\n",
    "    #d='employee_code\\tfullname\\tcity\\tage\\tcurrent city\\n'\n",
    "    m=int(input('enter the number of new employee:'))\n",
    "    for var in range(m):\n",
    "        e=input().split(',')\n",
    "        x+='\\t'.join(e)+'\\n'\n",
    "        f=open('contractors_list.xlsx','a')\n",
    "        f.write(x)"
   ]
  },
  {
   "cell_type": "code",
   "execution_count": null,
   "metadata": {},
   "outputs": [],
   "source": []
  }
 ],
 "metadata": {
  "kernelspec": {
   "display_name": "Python 3",
   "language": "python",
   "name": "python3"
  },
  "language_info": {
   "codemirror_mode": {
    "name": "ipython",
    "version": 3
   },
   "file_extension": ".py",
   "mimetype": "text/x-python",
   "name": "python",
   "nbconvert_exporter": "python",
   "pygments_lexer": "ipython3",
   "version": "3.6.7"
  }
 },
 "nbformat": 4,
 "nbformat_minor": 2
}
