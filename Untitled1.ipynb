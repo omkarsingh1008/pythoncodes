{
 "cells": [
  {
   "cell_type": "code",
   "execution_count": 18,
   "metadata": {
    "scrolled": true
   },
   "outputs": [
    {
     "name": "stdout",
     "output_type": "stream",
     "text": [
      "enter the number of employee:1\n",
      "emp_1,omkar,falan,18,jaipur\n"
     ]
    }
   ],
   "source": [
    "data='employee_code\\t,fullname\\t,city\\t,age\\t,current city\\n'\n",
    "n=int(input('enter the number of employee:'))\n",
    "for var in range(n):\n",
    "    d=input().split(',')\n",
    "    data += '\\t'.join(d)+'\\n'\n",
    "    fp=open('employee_list.csv','w')\n",
    "    fp.write(data)\n",
    "    fp.close()\n",
    "    \n",
    "d='employee_code\\tfullname\\tcity\\tage\\tcurrent city\\n'\n",
    "f=open('contractors_list.xlsx','w')\n",
    "f.write(d)\n",
    "f.close()\n",
    "d='employee_code\\tfullname\\tcity\\tage\\tcurrent city\\n'\n",
    "f1=open('nem_record.csv','w')\n",
    "f1.write(d)\n",
    "f1.close()"
   ]
  },
  {
   "cell_type": "code",
   "execution_count": 2,
   "metadata": {},
   "outputs": [
    {
     "name": "stdout",
     "output_type": "stream",
     "text": [
      "enter the employee type:tmp\n",
      "enter the number of new employee for new record:1\n",
      "tmp_5,amit,thailand,25,jaipur\n"
     ]
    }
   ],
   "source": [
    "b=\"\"\n",
    "x=\"\"\n",
    "p=input('enter the employee type:')\n",
    "n=int(input('enter the number of new employee for new record:'))\n",
    "for var in range(n):\n",
    "    r=input().split(',')\n",
    "    \n",
    "    b+='\\t'.join(r)+'\\n'\n",
    "    f1=open('nem_record.csv','a')\n",
    "    f1.write(b)\n",
    "    f1.close()\n",
    "    \n",
    "    if p=='emp':\n",
    "    #d='employee_code\\t,fullname\\t,city\\t,age\\t,current city\\n'\n",
    "       \n",
    "    \n",
    "        #e=input().split(',')\n",
    "        #x+= '\\t'.join(e)+'\\n'\n",
    "        fp=open('employee_list.csv','a')\n",
    "        fp.write(b)\n",
    "        fp.close()\n",
    "#d='employee_code\\tfullname\\tcity\\tage\\tcurrent city\\n'        \n",
    "    else:\n",
    "    #d='employee_code\\tfullname\\tcity\\tage\\tcurrent city\\n'\n",
    "        \n",
    "    \n",
    "        #e=input().split(',')\n",
    "        #x+='\\t'.join(e)+'\\n'\n",
    "        f=open('contractors_list.xlsx','a')\n",
    "        f.write(b)\n",
    "        f.close()"
   ]
  },
  {
   "cell_type": "code",
   "execution_count": null,
   "metadata": {},
   "outputs": [],
   "source": [
    "    \n",
    "        \n",
    "        \n",
    "    "
   ]
  },
  {
   "cell_type": "code",
   "execution_count": 17,
   "metadata": {},
   "outputs": [],
   "source": [
    "\n",
    "        "
   ]
  },
  {
   "cell_type": "code",
   "execution_count": null,
   "metadata": {},
   "outputs": [],
   "source": []
  },
  {
   "cell_type": "code",
   "execution_count": null,
   "metadata": {},
   "outputs": [],
   "source": []
  }
 ],
 "metadata": {
  "kernelspec": {
   "display_name": "Python 3",
   "language": "python",
   "name": "python3"
  }
 },
 "nbformat": 4,
 "nbformat_minor": 2
}
