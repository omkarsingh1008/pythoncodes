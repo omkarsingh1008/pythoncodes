{
 "cells": [
  {
   "cell_type": "code",
   "execution_count": null,
   "metadata": {},
   "outputs": [],
   "source": [
    "import socket\n",
    "server= socket.socket()\n",
    "host = 'localhost'\n",
    "port = 14231\n",
    "server.connect((host,port))\n",
    "while True : \n",
    "    c_msg = server.recv(1024)\n",
    "    print(\"\\t\\t\\tserver->\",c_msg.decode())\n",
    "    if c_msg.decode().strip().lower() == 'bye' :\n",
    "        print(\"Connection Closed by Server\")\n",
    "        server.close()\n",
    "        break\n",
    "    msg = input(\"\\nclient->\")\n",
    "    server.send(msg.encode())\n",
    "    if msg.strip().lower() == 'bye' : \n",
    "        server.send(msg.encode())\n",
    "        print(\"Connection is closed by client\")\n",
    "        client_socket.close()\n",
    "    break"
   ]
  },
  {
   "cell_type": "code",
   "execution_count": 4,
   "metadata": {},
   "outputs": [
    {
     "name": "stdout",
     "output_type": "stream",
     "text": [
      "server is connected\n",
      "client-->hii\n",
      "                                      server-->lol\n",
      "client-->seexy\n",
      "client-->bye\n",
      "connection lose by client\n",
      "                                      server-->bye\n"
     ]
    },
    {
     "name": "stderr",
     "output_type": "stream",
     "text": [
      "Exception in thread Thread-5:\n",
      "Traceback (most recent call last):\n",
      "  File \"/usr/lib/python3.6/threading.py\", line 916, in _bootstrap_inner\n",
      "    self.run()\n",
      "  File \"/usr/lib/python3.6/threading.py\", line 864, in run\n",
      "    self._target(*self._args, **self._kwargs)\n",
      "  File \"<ipython-input-4-d4a253664ffc>\", line 19, in recv\n",
      "    msg=server.recv(1024).decode()\n",
      "OSError: [Errno 9] Bad file descriptor\n",
      "\n"
     ]
    }
   ],
   "source": [
    "import socket\n",
    "server= socket.socket()\n",
    "host = 'localhost'\n",
    "port = 14226\n",
    "server.connect((host,port))\n",
    "print('server is connected')\n",
    "\n",
    "def send(server):\n",
    "    while True:\n",
    "        msg=input('client-->')\n",
    "        server.send(msg.encode())\n",
    "        if msg.strip().lower()=='bye':\n",
    "            print('connection lose by client')\n",
    "            server.close()\n",
    "            break\n",
    "            \n",
    "def recv(server):\n",
    "    while True:\n",
    "        msg=server.recv(1024).decode()\n",
    "        msg=f'server-->{msg}'\n",
    "        print(msg.rjust(50))\n",
    "        if msg.lower().strip()=='bye':\n",
    "            print('connection lose by server')\n",
    "            server.close()\n",
    "            break\n",
    "        \n",
    "            \n",
    "import threading\n",
    "msg_send=threading.Thread(target=send,args=(server,))\n",
    "msg_recv=threading.Thread(target=recv,args=(server,))\n",
    "\n",
    "msg_send.start()\n",
    "msg_recv.start()\n",
    "\n",
    "msg_send.join()\n",
    "msg_recv.join()            \n",
    "        \n",
    "        \n",
    "        \n"
   ]
  },
  {
   "cell_type": "code",
   "execution_count": null,
   "metadata": {},
   "outputs": [
    {
     "name": "stdout",
     "output_type": "stream",
     "text": [
      "Enter file name : om\n",
      "127.0.1.1:12347\n",
      "om.text\n"
     ]
    }
   ],
   "source": [
    "import socket\n",
    "9server = socket.socket(socket.AF_INET,socket.SOCK_STREAM)\n",
    "host = socket.gethostbyname(socket.gethostname())\n",
    "port = 12347\n",
    "x = input(\"Enter file name : \")\n",
    "server.connect((host,port))\n",
    "print(f\"{host}:{port}\")\n",
    "\n",
    "name = x+'.'+'txt'\n",
    "print(name)\n",
    "\n",
    "f = open(name,'wb')\n",
    "while True :\n",
    "    c_msg = server.recv(1024)\n",
    "    if c_msg == 'EOF'.encode() : \n",
    "        f.close()\n",
    "        server.close()\n",
    "        break\n",
    "f.write(c_msg)\n"
   ]
  },
  {
   "cell_type": "code",
   "execution_count": 3,
   "metadata": {},
   "outputs": [
    {
     "name": "stdout",
     "output_type": "stream",
     "text": [
      "om\n",
      "om.txt\n",
      "<class 'str'>\n"
     ]
    }
   ],
   "source": [
    "x=input('')\n",
    "name=x+'.'+'txt'\n",
    "print(name)\n",
    "print(type(name))\n",
    "\n",
    "\n",
    "\n",
    "\n",
    "\n",
    "\n",
    "\n"
   ]
  },
  {
   "cell_type": "code",
   "execution_count": null,
   "metadata": {},
   "outputs": [],
   "source": []
  }
 ],
 "metadata": {
  "kernelspec": {
   "display_name": "Python 3",
   "language": "python",
   "name": "python3"
  },
  "language_info": {
   "codemirror_mode": {
    "name": "ipython",
    "version": 3
   },
   "file_extension": ".py",
   "mimetype": "text/x-python",
   "name": "python",
   "nbconvert_exporter": "python",
   "pygments_lexer": "ipython3",
   "version": "3.6.7"
  }
 },
 "nbformat": 4,
 "nbformat_minor": 2
}
